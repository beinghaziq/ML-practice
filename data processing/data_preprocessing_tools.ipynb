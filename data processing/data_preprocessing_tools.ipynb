{
  "nbformat": 4,
  "nbformat_minor": 0,
  "metadata": {
    "colab": {
      "provenance": [],
      "include_colab_link": true
    },
    "kernelspec": {
      "name": "python3",
      "display_name": "Python 3"
    }
  },
  "cells": [
    {
      "cell_type": "markdown",
      "metadata": {
        "id": "view-in-github",
        "colab_type": "text"
      },
      "source": [
        "<a href=\"https://colab.research.google.com/github/beinghaziq/ML-practice/blob/main/data%20processing/data_preprocessing_tools.ipynb\" target=\"_parent\"><img src=\"https://colab.research.google.com/assets/colab-badge.svg\" alt=\"Open In Colab\"/></a>"
      ]
    },
    {
      "cell_type": "markdown",
      "metadata": {
        "id": "37puETfgRzzg"
      },
      "source": [
        "# Data Preprocessing Tools"
      ]
    },
    {
      "cell_type": "markdown",
      "metadata": {
        "id": "EoRP98MpR-qj"
      },
      "source": [
        "## Importing the libraries"
      ]
    },
    {
      "cell_type": "code",
      "source": [
        "import numpy as np\n",
        "import matplotlib.pyplot as plt\n",
        "import pandas as pd\n",
        "from google.colab import drive\n",
        "drive.mount('/content/drive')"
      ],
      "metadata": {
        "id": "r-Tq2eoAetRh",
        "colab": {
          "base_uri": "https://localhost:8080/"
        },
        "outputId": "1d5a1b28-6a79-4061-eedc-b80ec1b861ba"
      },
      "execution_count": 2,
      "outputs": [
        {
          "output_type": "stream",
          "name": "stdout",
          "text": [
            "Mounted at /content/drive\n"
          ]
        }
      ]
    },
    {
      "cell_type": "markdown",
      "metadata": {
        "id": "RopL7tUZSQkT"
      },
      "source": [
        "## Importing the dataset"
      ]
    },
    {
      "cell_type": "code",
      "source": [
        "dataset = pd.read_csv('/content/drive/My Drive/Colab Notebooks/data.csv')\n",
        "# Notes: Last column is dependent because we have yes or no against purchase and other\n",
        "# columns are independent like age and salary\n",
        "x = dataset.iloc[:, :-1].values # Get all columns except last one\n",
        "# Notes: Last column => it is dependent in most cases and in this case it is\n",
        "# purchased\n",
        "y = dataset.iloc[:, -1].values\n",
        "z = dataset.drop(dataset.columns[1], axis=1).values\n",
        "# Notes: .iloc is an indexer for selecting rows and columns by their integer positions\n",
        "# The colon (:) before the comma indicates that we want to select all rows."
      ],
      "metadata": {
        "id": "fnwqvfJ9xZeO"
      },
      "execution_count": 15,
      "outputs": []
    },
    {
      "cell_type": "code",
      "source": [
        "print(z)"
      ],
      "metadata": {
        "colab": {
          "base_uri": "https://localhost:8080/"
        },
        "id": "kPY2uyCFO_9Y",
        "outputId": "d6eb3a6c-1f47-4b5f-ed1b-e49902e1ad53"
      },
      "execution_count": 16,
      "outputs": [
        {
          "output_type": "stream",
          "name": "stdout",
          "text": [
            "[['France' 72000.0 'No']\n",
            " ['Spain' 48000.0 'Yes']\n",
            " ['Germany' 54000.0 'No']\n",
            " ['Spain' 61000.0 'No']\n",
            " ['Germany' nan 'Yes']\n",
            " ['France' 58000.0 'Yes']\n",
            " ['Spain' 52000.0 'No']\n",
            " ['France' 79000.0 'Yes']\n",
            " ['Germany' 83000.0 'No']\n",
            " ['France' 67000.0 'Yes']]\n"
          ]
        }
      ]
    },
    {
      "cell_type": "code",
      "source": [
        "print(x) # .values is giving data in form of array of arrays."
      ],
      "metadata": {
        "colab": {
          "base_uri": "https://localhost:8080/"
        },
        "id": "FFJYc4-oVWZ6",
        "outputId": "e6179a76-38c0-4064-e8ee-1a3071bf9b2b"
      },
      "execution_count": 17,
      "outputs": [
        {
          "output_type": "stream",
          "name": "stdout",
          "text": [
            "[['France' 44.0 72000.0]\n",
            " ['Spain' 27.0 48000.0]\n",
            " ['Germany' 30.0 54000.0]\n",
            " ['Spain' 38.0 61000.0]\n",
            " ['Germany' 40.0 nan]\n",
            " ['France' 35.0 58000.0]\n",
            " ['Spain' nan 52000.0]\n",
            " ['France' 48.0 79000.0]\n",
            " ['Germany' 50.0 83000.0]\n",
            " ['France' 37.0 67000.0]]\n"
          ]
        }
      ]
    },
    {
      "cell_type": "code",
      "source": [
        "print(y)"
      ],
      "metadata": {
        "colab": {
          "base_uri": "https://localhost:8080/"
        },
        "id": "TbGHcXSXCXwm",
        "outputId": "bf3422ee-92c3-493f-d1a8-ccf1ef36b80d"
      },
      "execution_count": null,
      "outputs": [
        {
          "output_type": "stream",
          "name": "stdout",
          "text": [
            "['No' 'Yes' 'No' 'No' 'Yes' 'Yes' 'No' 'Yes' 'No' 'Yes']\n"
          ]
        }
      ]
    },
    {
      "cell_type": "markdown",
      "metadata": {
        "id": "nhfKXNxlSabC"
      },
      "source": [
        "## Taking care of missing data"
      ]
    },
    {
      "cell_type": "markdown",
      "source": [
        "The code uses `SimpleImputer` to replace missing values (`np.nan`) in columns 1 and 2 of the array `x` with the mean of those columns."
      ],
      "metadata": {
        "id": "0z_nILvm2rlu"
      }
    },
    {
      "cell_type": "code",
      "source": [
        "from sklearn.impute import SimpleImputer\n",
        "imputer = SimpleImputer(missing_values=np.nan, strategy=\"mean\")\n",
        "imputer.fit(x[:, 1:3])\n",
        "x[:, 1:3] = imputer.transform(x[:, 1:3])"
      ],
      "metadata": {
        "id": "933kvNxxr9hn"
      },
      "execution_count": 18,
      "outputs": []
    },
    {
      "cell_type": "code",
      "source": [
        "print(x)"
      ],
      "metadata": {
        "colab": {
          "base_uri": "https://localhost:8080/"
        },
        "id": "XqOOSqFUuOxr",
        "outputId": "1e5f346e-4da2-44f6-8ad0-c5c35113491e"
      },
      "execution_count": 19,
      "outputs": [
        {
          "output_type": "stream",
          "name": "stdout",
          "text": [
            "[['France' 44.0 72000.0]\n",
            " ['Spain' 27.0 48000.0]\n",
            " ['Germany' 30.0 54000.0]\n",
            " ['Spain' 38.0 61000.0]\n",
            " ['Germany' 40.0 63777.77777777778]\n",
            " ['France' 35.0 58000.0]\n",
            " ['Spain' 38.77777777777778 52000.0]\n",
            " ['France' 48.0 79000.0]\n",
            " ['Germany' 50.0 83000.0]\n",
            " ['France' 37.0 67000.0]]\n"
          ]
        }
      ]
    },
    {
      "cell_type": "markdown",
      "metadata": {
        "id": "CriG6VzVSjcK"
      },
      "source": [
        "## Encoding categorical data"
      ]
    },
    {
      "cell_type": "markdown",
      "source": [
        "Notes: We encode categorical data to make it compatible with machine learning algorithms, which often require numerical input. This process improves model performance and ensures accurate interpretation of the data.\n",
        "In this case we require data in form of numpy friendly. That's why we used np.array as well.\n",
        "\n",
        "\n",
        "**One-Hot Encoding:** Converts categorical values into multiple binary columns, where each unique category becomes a column with 1s and 0s. It avoids ordinal relationships but can increase the feature space significantly.\n",
        "\n",
        "**Example: **\n",
        "\n",
        "Before:\n",
        "Color => Red, Green, Blue, Red\n",
        "\n",
        "After:\n",
        "Color_Red: 1001\n",
        "Color_Green: 0100\n",
        "Color_Blue: 0010\n",
        "\n",
        "\n",
        "**Label Encoding:** Assigns each unique category an integer value. It’s memory efficient but implies an ordinal relationship, which may not be suitable for all algorithms.\n",
        "\n",
        "**Example:**\n",
        "Color => Red, Green, Blue, Red\n",
        "\n",
        "After:\n",
        "Color\n",
        "0  # Red\n",
        "1  # Green\n",
        "2  # Blue\n",
        "0  # Red\n",
        "\n",
        "You would use **OneHotEncoder** when dealing with categorical features that have no inherent order or hierarchy, as it creates binary columns for each category. On the other hand, **LabelEncoder** is suitable for ordinal categorical data where there is a clear order or ranking among the categories, as it assigns integer labels accordingly.\n",
        "\n"
      ],
      "metadata": {
        "id": "HNmnexoER65l"
      }
    },
    {
      "cell_type": "markdown",
      "metadata": {
        "id": "AhSpdQWeSsFh"
      },
      "source": [
        "### Encoding the Independent Variable"
      ]
    },
    {
      "cell_type": "code",
      "source": [
        "from sklearn.compose import ColumnTransformer\n",
        "from sklearn.preprocessing import OneHotEncoder\n",
        "ct = ColumnTransformer(transformers= [('encoder', OneHotEncoder(), [0])], remainder='passthrough')\n",
        "encoded_matrix = np.array(ct.fit_transform(x))"
      ],
      "metadata": {
        "id": "PBruNnRW2E5C"
      },
      "execution_count": 20,
      "outputs": []
    },
    {
      "cell_type": "code",
      "source": [
        "print(encoded_matrix)"
      ],
      "metadata": {
        "colab": {
          "base_uri": "https://localhost:8080/"
        },
        "id": "9U5ZBvap_UAW",
        "outputId": "2a4faa8c-b159-4472-d359-afeb5b1c36b5"
      },
      "execution_count": 21,
      "outputs": [
        {
          "output_type": "stream",
          "name": "stdout",
          "text": [
            "[[1.0 0.0 0.0 44.0 72000.0]\n",
            " [0.0 0.0 1.0 27.0 48000.0]\n",
            " [0.0 1.0 0.0 30.0 54000.0]\n",
            " [0.0 0.0 1.0 38.0 61000.0]\n",
            " [0.0 1.0 0.0 40.0 63777.77777777778]\n",
            " [1.0 0.0 0.0 35.0 58000.0]\n",
            " [0.0 0.0 1.0 38.77777777777778 52000.0]\n",
            " [1.0 0.0 0.0 48.0 79000.0]\n",
            " [0.0 1.0 0.0 50.0 83000.0]\n",
            " [1.0 0.0 0.0 37.0 67000.0]]\n"
          ]
        }
      ]
    },
    {
      "cell_type": "markdown",
      "metadata": {
        "id": "DXh8oVSITIc6"
      },
      "source": [
        "### Encoding the Dependent Variable"
      ]
    },
    {
      "cell_type": "code",
      "source": [
        "from sklearn.preprocessing import LabelEncoder\n",
        "le = LabelEncoder() #passing nothing because we have only one single vector\n",
        "encoded_dependent = le.fit_transform(y)"
      ],
      "metadata": {
        "id": "IX7ETVgOx3j4"
      },
      "execution_count": 22,
      "outputs": []
    },
    {
      "cell_type": "code",
      "source": [
        "print(encoded_dependent)"
      ],
      "metadata": {
        "colab": {
          "base_uri": "https://localhost:8080/"
        },
        "id": "ShgaOKwo3qNC",
        "outputId": "c1709549-81a1-4500-cae5-0faea580f080"
      },
      "execution_count": 23,
      "outputs": [
        {
          "output_type": "stream",
          "name": "stdout",
          "text": [
            "[0 1 0 0 1 1 0 1 0 1]\n"
          ]
        }
      ]
    },
    {
      "cell_type": "markdown",
      "metadata": {
        "id": "qb_vcgm3qZKW"
      },
      "source": [
        "## Splitting the dataset into the Training set and Test set"
      ]
    },
    {
      "cell_type": "code",
      "source": [
        "from sklearn.model_selection import train_test_split\n",
        "x_train, x_test, y_train, y_test = train_test_split(encoded_matrix, encoded_dependent, test_size = 0.2, random_state = 1)"
      ],
      "metadata": {
        "id": "BGW42SmTwldI"
      },
      "execution_count": 24,
      "outputs": []
    },
    {
      "cell_type": "code",
      "source": [
        "print(x_train)"
      ],
      "metadata": {
        "colab": {
          "base_uri": "https://localhost:8080/"
        },
        "id": "b221q3BT_xyG",
        "outputId": "4d46a288-1772-4bef-dda8-9066f11d77c4"
      },
      "execution_count": 25,
      "outputs": [
        {
          "output_type": "stream",
          "name": "stdout",
          "text": [
            "[[0.0 0.0 1.0 38.77777777777778 52000.0]\n",
            " [0.0 1.0 0.0 40.0 63777.77777777778]\n",
            " [1.0 0.0 0.0 44.0 72000.0]\n",
            " [0.0 0.0 1.0 38.0 61000.0]\n",
            " [0.0 0.0 1.0 27.0 48000.0]\n",
            " [1.0 0.0 0.0 48.0 79000.0]\n",
            " [0.0 1.0 0.0 50.0 83000.0]\n",
            " [1.0 0.0 0.0 35.0 58000.0]]\n"
          ]
        }
      ]
    },
    {
      "cell_type": "code",
      "source": [
        "print(x_test)"
      ],
      "metadata": {
        "colab": {
          "base_uri": "https://localhost:8080/"
        },
        "id": "CKoWwjpz_x43",
        "outputId": "072e8260-af81-4674-ffc2-d2d338e41f92"
      },
      "execution_count": 26,
      "outputs": [
        {
          "output_type": "stream",
          "name": "stdout",
          "text": [
            "[[0.0 1.0 0.0 30.0 54000.0]\n",
            " [1.0 0.0 0.0 37.0 67000.0]]\n"
          ]
        }
      ]
    },
    {
      "cell_type": "code",
      "source": [
        "print(y_train)"
      ],
      "metadata": {
        "colab": {
          "base_uri": "https://localhost:8080/"
        },
        "id": "XV37Nojv_yBm",
        "outputId": "44ba5658-79db-41ad-8caa-2685546b945c"
      },
      "execution_count": 27,
      "outputs": [
        {
          "output_type": "stream",
          "name": "stdout",
          "text": [
            "[0 1 0 0 1 1 0 1]\n"
          ]
        }
      ]
    },
    {
      "cell_type": "code",
      "source": [
        "print(y_test)"
      ],
      "metadata": {
        "colab": {
          "base_uri": "https://localhost:8080/"
        },
        "id": "Nyz_NK8j_yJm",
        "outputId": "cfeef774-145f-4403-88b5-1ce7700970e7"
      },
      "execution_count": 28,
      "outputs": [
        {
          "output_type": "stream",
          "name": "stdout",
          "text": [
            "[0 1]\n"
          ]
        }
      ]
    },
    {
      "cell_type": "markdown",
      "source": [
        "**Feature Scaling**\n",
        "\n",
        "Feature scaling is like adjusting the size of different objects so they all fit within a certain range. For instance, if you have numbers ranging from 1 to 100, and you want to scale them to fit between 0 and 1, you can use feature scaling.\n",
        "\n",
        "Example:\n",
        "Imagine you have three numbers: 10, 20, and 30.\n",
        "\n",
        "Min-Max Scaling: This method rescales the numbers so they fit between 0 and 1.\n",
        "Find the smallest number (10) and the largest number (30).\n",
        "The formula is:\n",
        "Scaled\n",
        "=\n",
        "Number\n",
        "−\n",
        "Min\n",
        "Max\n",
        "−\n",
        "Min\n",
        "Scaled=\n",
        "Max−Min\n",
        "Number−Min\n",
        "​\n",
        "\n",
        "So, 10 becomes 0, 20 becomes 0.5, and 30 becomes 1.\n",
        "\n",
        "**Standardization** is like adjusting the heights of different people so that their average height becomes zero, and we measure how much taller or shorter each person is compared to the average.\n",
        "\n",
        "Example:\n",
        "Imagine you have three heights: 160 cm, 170 cm, and 180 cm.\n",
        "\n",
        "Standardization: This method adjusts the heights so the average becomes 0 and the spread is measured by how far each height is from the average.\n",
        "Find the average height (170 cm) and the standard deviation (a measure of how spread out the heights are).\n",
        "The formula is:\n",
        "Standardized\n",
        "=\n",
        "Height\n",
        "−\n",
        "Average\n",
        "Standard Deviation\n",
        "Standardized=\n",
        "Standard Deviation\n",
        "Height−Average\n",
        "​\n",
        "\n",
        "So, 160 cm becomes -1, 170 cm becomes 0, and 180 cm becomes 1."
      ],
      "metadata": {
        "id": "q86iHyIH6hg_"
      }
    },
    {
      "cell_type": "markdown",
      "metadata": {
        "id": "TpGqbS4TqkIR"
      },
      "source": [
        "## Feature Scaling"
      ]
    },
    {
      "cell_type": "code",
      "source": [
        "from sklearn.preprocessing import StandardScaler\n",
        "sc = StandardScaler()\n",
        "x_train[:, 3:] = sc.fit_transform(x_train[:, 3:]) # Country contains dummy values and then integers.\n",
        "x_test[:, 3:] = sc.fit_transform(x_test[:, 3:]) # Same scaler as of training set"
      ],
      "metadata": {
        "id": "ONdBDjMp5rxi"
      },
      "execution_count": 29,
      "outputs": []
    },
    {
      "cell_type": "code",
      "source": [
        "print(x_train)"
      ],
      "metadata": {
        "colab": {
          "base_uri": "https://localhost:8080/"
        },
        "id": "PY8ZSdAtBFiC",
        "outputId": "e4b61174-fe39-4126-c453-8a8b53faa094"
      },
      "execution_count": 30,
      "outputs": [
        {
          "output_type": "stream",
          "name": "stdout",
          "text": [
            "[[0.0 0.0 1.0 -0.19159184384578545 -1.0781259408412425]\n",
            " [0.0 1.0 0.0 -0.014117293757057777 -0.07013167641635372]\n",
            " [1.0 0.0 0.0 0.566708506533324 0.633562432710455]\n",
            " [0.0 0.0 1.0 -0.30453019390224867 -0.30786617274297867]\n",
            " [0.0 0.0 1.0 -1.9018011447007988 -1.420463615551582]\n",
            " [1.0 0.0 0.0 1.1475343068237058 1.232653363453549]\n",
            " [0.0 1.0 0.0 1.4379472069688968 1.5749910381638885]\n",
            " [1.0 0.0 0.0 -0.7401495441200351 -0.5646194287757332]]\n"
          ]
        }
      ]
    },
    {
      "cell_type": "code",
      "source": [
        "print(x_test)"
      ],
      "metadata": {
        "colab": {
          "base_uri": "https://localhost:8080/"
        },
        "id": "cHByBqO9BFF6",
        "outputId": "d5f4b165-f127-451c-b925-a64a2468011b"
      },
      "execution_count": 31,
      "outputs": [
        {
          "output_type": "stream",
          "name": "stdout",
          "text": [
            "[[0.0 1.0 0.0 -1.0 -1.0]\n",
            " [1.0 0.0 0.0 1.0 1.0]]\n"
          ]
        }
      ]
    },
    {
      "cell_type": "markdown",
      "source": [],
      "metadata": {
        "id": "6sUDcbpOhiCA"
      }
    }
  ]
}