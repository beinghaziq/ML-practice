{
  "nbformat": 4,
  "nbformat_minor": 0,
  "metadata": {
    "colab": {
      "provenance": [],
      "include_colab_link": true
    },
    "kernelspec": {
      "name": "python3",
      "display_name": "Python 3"
    }
  },
  "cells": [
    {
      "cell_type": "markdown",
      "metadata": {
        "id": "view-in-github",
        "colab_type": "text"
      },
      "source": [
        "<a href=\"https://colab.research.google.com/github/beinghaziq/ML-practice/blob/main/data%20processing/data_preprocessing_tools.ipynb\" target=\"_parent\"><img src=\"https://colab.research.google.com/assets/colab-badge.svg\" alt=\"Open In Colab\"/></a>"
      ]
    },
    {
      "cell_type": "markdown",
      "metadata": {
        "id": "37puETfgRzzg"
      },
      "source": [
        "# Data Preprocessing Tools"
      ]
    },
    {
      "cell_type": "markdown",
      "metadata": {
        "id": "EoRP98MpR-qj"
      },
      "source": [
        "## Importing the libraries"
      ]
    },
    {
      "cell_type": "code",
      "source": [
        "import numpy as np\n",
        "import matplotlib.pyplot as plt\n",
        "import pandas as pd\n",
        "from google.colab import drive\n",
        "drive.mount('/content/drive')"
      ],
      "metadata": {
        "id": "r-Tq2eoAetRh",
        "colab": {
          "base_uri": "https://localhost:8080/"
        },
        "outputId": "2d2a5478-884a-4668-e375-997f8ac75582"
      },
      "execution_count": 1,
      "outputs": [
        {
          "output_type": "stream",
          "name": "stdout",
          "text": [
            "Mounted at /content/drive\n"
          ]
        }
      ]
    },
    {
      "cell_type": "markdown",
      "metadata": {
        "id": "RopL7tUZSQkT"
      },
      "source": [
        "## Importing the dataset"
      ]
    },
    {
      "cell_type": "code",
      "source": [
        "dataset = pd.read_csv('/content/drive/My Drive/Colab Notebooks/data.csv')\n",
        "# Notes: Last column is dependent because we have yes or no against purchase and other\n",
        "# columns are independent like age and salary\n",
        "x = dataset.iloc[:, :-1].values # Get all columns except last one\n",
        "# Notes: Last column => it is dependent in most cases and in this case it is\n",
        "# purchased\n",
        "y = dataset.iloc[:, -1].values\n",
        "z = dataset.drop(dataset.columns[1], axis=1).values\n",
        "# Notes: .iloc is an indexer for selecting rows and columns by their integer positions\n",
        "# The colon (:) before the comma indicates that we want to select all rows."
      ],
      "metadata": {
        "id": "fnwqvfJ9xZeO"
      },
      "execution_count": 2,
      "outputs": []
    },
    {
      "cell_type": "code",
      "source": [
        "print(z)"
      ],
      "metadata": {
        "colab": {
          "base_uri": "https://localhost:8080/"
        },
        "id": "kPY2uyCFO_9Y",
        "outputId": "491ccf37-ca71-4b3b-b1cb-9da78c72a677"
      },
      "execution_count": 35,
      "outputs": [
        {
          "output_type": "stream",
          "name": "stdout",
          "text": [
            "[['France' 72000.0 'No']\n",
            " ['Spain' 48000.0 'Yes']\n",
            " ['Germany' 54000.0 'No']\n",
            " ['Spain' 61000.0 'No']\n",
            " ['Germany' nan 'Yes']\n",
            " ['France' 58000.0 'Yes']\n",
            " ['Spain' 52000.0 'No']\n",
            " ['France' 79000.0 'Yes']\n",
            " ['Germany' 83000.0 'No']\n",
            " ['France' 67000.0 'Yes']]\n"
          ]
        }
      ]
    },
    {
      "cell_type": "code",
      "source": [
        "print(x) # .values is giving data in form of array of arrays."
      ],
      "metadata": {
        "colab": {
          "base_uri": "https://localhost:8080/"
        },
        "id": "FFJYc4-oVWZ6",
        "outputId": "31c1a4ec-194e-405f-e288-7ff65d3ea2d9"
      },
      "execution_count": null,
      "outputs": [
        {
          "output_type": "stream",
          "name": "stdout",
          "text": [
            "[['France' 44.0 72000.0]\n",
            " ['Spain' 27.0 48000.0]\n",
            " ['Germany' 30.0 54000.0]\n",
            " ['Spain' 38.0 61000.0]\n",
            " ['Germany' 40.0 nan]\n",
            " ['France' 35.0 58000.0]\n",
            " ['Spain' nan 52000.0]\n",
            " ['France' 48.0 79000.0]\n",
            " ['Germany' 50.0 83000.0]\n",
            " ['France' 37.0 67000.0]]\n"
          ]
        }
      ]
    },
    {
      "cell_type": "code",
      "source": [
        "print(y)"
      ],
      "metadata": {
        "colab": {
          "base_uri": "https://localhost:8080/"
        },
        "id": "TbGHcXSXCXwm",
        "outputId": "bf3422ee-92c3-493f-d1a8-ccf1ef36b80d"
      },
      "execution_count": null,
      "outputs": [
        {
          "output_type": "stream",
          "name": "stdout",
          "text": [
            "['No' 'Yes' 'No' 'No' 'Yes' 'Yes' 'No' 'Yes' 'No' 'Yes']\n"
          ]
        }
      ]
    },
    {
      "cell_type": "markdown",
      "metadata": {
        "id": "nhfKXNxlSabC"
      },
      "source": [
        "## Taking care of missing data"
      ]
    },
    {
      "cell_type": "markdown",
      "source": [
        "The code uses `SimpleImputer` to replace missing values (`np.nan`) in columns 1 and 2 of the array `x` with the mean of those columns."
      ],
      "metadata": {
        "id": "0z_nILvm2rlu"
      }
    },
    {
      "cell_type": "code",
      "source": [
        "from sklearn.impute import SimpleImputer\n",
        "imputer = SimpleImputer(missing_values=np.nan, strategy=\"mean\")\n",
        "imputer.fit(x[:, 1:3])\n",
        "x[:, 1:3] = imputer.transform(x[:, 1:3])"
      ],
      "metadata": {
        "id": "933kvNxxr9hn"
      },
      "execution_count": 3,
      "outputs": []
    },
    {
      "cell_type": "code",
      "source": [
        "print(x)"
      ],
      "metadata": {
        "colab": {
          "base_uri": "https://localhost:8080/"
        },
        "id": "XqOOSqFUuOxr",
        "outputId": "f8f9ecde-d592-4a79-c670-e1fe53edd8cd"
      },
      "execution_count": null,
      "outputs": [
        {
          "output_type": "stream",
          "name": "stdout",
          "text": [
            "[['France' 44.0 72000.0]\n",
            " ['Spain' 27.0 48000.0]\n",
            " ['Germany' 30.0 54000.0]\n",
            " ['Spain' 38.0 61000.0]\n",
            " ['Germany' 40.0 63777.77777777778]\n",
            " ['France' 35.0 58000.0]\n",
            " ['Spain' 38.77777777777778 52000.0]\n",
            " ['France' 48.0 79000.0]\n",
            " ['Germany' 50.0 83000.0]\n",
            " ['France' 37.0 67000.0]]\n"
          ]
        }
      ]
    },
    {
      "cell_type": "markdown",
      "metadata": {
        "id": "CriG6VzVSjcK"
      },
      "source": [
        "## Encoding categorical data"
      ]
    },
    {
      "cell_type": "markdown",
      "source": [
        "Notes: We encode categorical data to make it compatible with machine learning algorithms, which often require numerical input. This process improves model performance and ensures accurate interpretation of the data.\n",
        "In this case we require data in form of numpy friendly. That's why we used np.array as well.\n",
        "\n",
        "\n",
        "**One-Hot Encoding:** Converts categorical values into multiple binary columns, where each unique category becomes a column with 1s and 0s. It avoids ordinal relationships but can increase the feature space significantly.\n",
        "\n",
        "**Example: **\n",
        "\n",
        "Before:\n",
        "Color => Red, Green, Blue, Red\n",
        "\n",
        "After:\n",
        "Color_Red: 1001\n",
        "Color_Green: 0100\n",
        "Color_Blue: 0010\n",
        "\n",
        "\n",
        "**Label Encoding:** Assigns each unique category an integer value. It’s memory efficient but implies an ordinal relationship, which may not be suitable for all algorithms.\n",
        "\n",
        "**Example:**\n",
        "Color => Red, Green, Blue, Red\n",
        "\n",
        "After:\n",
        "Color\n",
        "0  # Red\n",
        "1  # Green\n",
        "2  # Blue\n",
        "0  # Red\n",
        "\n",
        "You would use **OneHotEncoder** when dealing with categorical features that have no inherent order or hierarchy, as it creates binary columns for each category. On the other hand, **LabelEncoder** is suitable for ordinal categorical data where there is a clear order or ranking among the categories, as it assigns integer labels accordingly.\n",
        "\n"
      ],
      "metadata": {
        "id": "HNmnexoER65l"
      }
    },
    {
      "cell_type": "markdown",
      "metadata": {
        "id": "AhSpdQWeSsFh"
      },
      "source": [
        "### Encoding the Independent Variable"
      ]
    },
    {
      "cell_type": "code",
      "source": [
        "from sklearn.compose import ColumnTransformer\n",
        "from sklearn.preprocessing import OneHotEncoder\n",
        "ct = ColumnTransformer(transformers= [('encoder', OneHotEncoder(), [0])], remainder='passthrough')\n",
        "encoded_matrix = np.array(ct.fit_transform(x))"
      ],
      "metadata": {
        "id": "PBruNnRW2E5C"
      },
      "execution_count": 6,
      "outputs": []
    },
    {
      "cell_type": "code",
      "source": [
        "print(encoded_matrix)"
      ],
      "metadata": {
        "colab": {
          "base_uri": "https://localhost:8080/"
        },
        "id": "9U5ZBvap_UAW",
        "outputId": "4123b578-a5cf-47f6-869e-40c6a5d7617b"
      },
      "execution_count": 10,
      "outputs": [
        {
          "output_type": "stream",
          "name": "stdout",
          "text": [
            "[[1.0 0.0 0.0 44.0 72000.0]\n",
            " [0.0 0.0 1.0 27.0 48000.0]\n",
            " [0.0 1.0 0.0 30.0 54000.0]\n",
            " [0.0 0.0 1.0 38.0 61000.0]\n",
            " [0.0 1.0 0.0 40.0 63777.77777777778]\n",
            " [1.0 0.0 0.0 35.0 58000.0]\n",
            " [0.0 0.0 1.0 38.77777777777778 52000.0]\n",
            " [1.0 0.0 0.0 48.0 79000.0]\n",
            " [0.0 1.0 0.0 50.0 83000.0]\n",
            " [1.0 0.0 0.0 37.0 67000.0]]\n"
          ]
        }
      ]
    },
    {
      "cell_type": "markdown",
      "metadata": {
        "id": "DXh8oVSITIc6"
      },
      "source": [
        "### Encoding the Dependent Variable"
      ]
    },
    {
      "cell_type": "code",
      "source": [
        "from sklearn.preprocessing import LabelEncoder\n",
        "le = LabelEncoder() #passing nothing because we have only one single vector\n",
        "encoded_dependent = le.fit_transform(y)"
      ],
      "metadata": {
        "id": "IX7ETVgOx3j4"
      },
      "execution_count": 4,
      "outputs": []
    },
    {
      "cell_type": "code",
      "source": [
        "print(encoded_dependent)"
      ],
      "metadata": {
        "colab": {
          "base_uri": "https://localhost:8080/"
        },
        "id": "ShgaOKwo3qNC",
        "outputId": "a1e79bb5-bcbb-4680-d097-bdf15ab93105"
      },
      "execution_count": 8,
      "outputs": [
        {
          "output_type": "stream",
          "name": "stdout",
          "text": [
            "[0 1 0 0 1 1 0 1 0 1]\n"
          ]
        }
      ]
    },
    {
      "cell_type": "markdown",
      "metadata": {
        "id": "qb_vcgm3qZKW"
      },
      "source": [
        "## Splitting the dataset into the Training set and Test set"
      ]
    },
    {
      "cell_type": "code",
      "source": [
        "from sklearn.model_selection import train_test_split\n",
        "x_train, x_test, y_train, y_test = train_test_split(encoded_matrix, encoded_dependent, test_size = 0.2, random_state = 1)"
      ],
      "metadata": {
        "id": "BGW42SmTwldI"
      },
      "execution_count": 7,
      "outputs": []
    },
    {
      "cell_type": "code",
      "source": [
        "print(x_train)"
      ],
      "metadata": {
        "colab": {
          "base_uri": "https://localhost:8080/"
        },
        "id": "b221q3BT_xyG",
        "outputId": "d35b1bcb-de41-4366-ef40-82183e5ac183"
      },
      "execution_count": 8,
      "outputs": [
        {
          "output_type": "stream",
          "name": "stdout",
          "text": [
            "[[0.0 0.0 1.0 38.77777777777778 52000.0]\n",
            " [0.0 1.0 0.0 40.0 63777.77777777778]\n",
            " [1.0 0.0 0.0 44.0 72000.0]\n",
            " [0.0 0.0 1.0 38.0 61000.0]\n",
            " [0.0 0.0 1.0 27.0 48000.0]\n",
            " [1.0 0.0 0.0 48.0 79000.0]\n",
            " [0.0 1.0 0.0 50.0 83000.0]\n",
            " [1.0 0.0 0.0 35.0 58000.0]]\n"
          ]
        }
      ]
    },
    {
      "cell_type": "code",
      "source": [
        "print(x_test)"
      ],
      "metadata": {
        "colab": {
          "base_uri": "https://localhost:8080/"
        },
        "id": "CKoWwjpz_x43",
        "outputId": "f14c91bc-1705-4375-89a7-1492e2e962b2"
      },
      "execution_count": 9,
      "outputs": [
        {
          "output_type": "stream",
          "name": "stdout",
          "text": [
            "[[0.0 1.0 0.0 30.0 54000.0]\n",
            " [1.0 0.0 0.0 37.0 67000.0]]\n"
          ]
        }
      ]
    },
    {
      "cell_type": "code",
      "source": [
        "print(y_train)"
      ],
      "metadata": {
        "colab": {
          "base_uri": "https://localhost:8080/"
        },
        "id": "XV37Nojv_yBm",
        "outputId": "57b55c4e-bd13-4faf-9fc3-8ca23f992ecd"
      },
      "execution_count": 11,
      "outputs": [
        {
          "output_type": "stream",
          "name": "stdout",
          "text": [
            "[0 1 0 0 1 1 0 1]\n"
          ]
        }
      ]
    },
    {
      "cell_type": "code",
      "source": [
        "print(y_test)"
      ],
      "metadata": {
        "colab": {
          "base_uri": "https://localhost:8080/"
        },
        "id": "Nyz_NK8j_yJm",
        "outputId": "7137c310-04ab-4a7f-f2f8-afdd09e18bb5"
      },
      "execution_count": 12,
      "outputs": [
        {
          "output_type": "stream",
          "name": "stdout",
          "text": [
            "[0 1]\n"
          ]
        }
      ]
    },
    {
      "cell_type": "markdown",
      "metadata": {
        "id": "TpGqbS4TqkIR"
      },
      "source": [
        "## Feature Scaling"
      ]
    },
    {
      "cell_type": "markdown",
      "source": [],
      "metadata": {
        "id": "6sUDcbpOhiCA"
      }
    }
  ]
}